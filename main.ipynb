{
 "cells": [
  {
   "cell_type": "code",
   "execution_count": 127,
   "metadata": {},
   "outputs": [
    {
     "data": {
      "text/plain": "10"
     },
     "execution_count": 127,
     "metadata": {},
     "output_type": "execute_result"
    }
   ],
   "source": [
    "import pandas as pd\r\n",
    "import numpy as np\r\n",
    "import os\r\n",
    "import tensorflow as tf\r\n",
    "import cv2\r\n",
    "from tensorflow import keras\r\n",
    "from  matplotlib import pyplot as plt\r\n",
    "import matplotlib.image as mpimg\r\n",
    "%matplotlib inline\r\n",
    "\r\n",
    "import random\r\n",
    "random.randint(1, 100)"
   ]
  },
  {
   "cell_type": "code",
   "execution_count": 71,
   "metadata": {},
   "outputs": [
    {
     "data": {
      "text/plain": "<Figure size 1440x1440 with 0 Axes>"
     },
     "execution_count": 71,
     "metadata": {},
     "output_type": "execute_result"
    },
    {
     "data": {
      "text/plain": "<Figure size 1440x1440 with 0 Axes>"
     },
     "metadata": {},
     "output_type": "display_data"
    }
   ],
   "source": [
    "ham_folder = r'C:\\Users\\TIMI.PC\\Documents\\Programming\\Python\\Projects\\Spam-SVM\\data\\spam'\r\n",
    "\r\n",
    "plt.figure(figsize=(20,20))\r\n",
    "\r\n",
    "# for i in range(5):\r\n",
    "#     file = random.choice(os.listdir(ham_folder))\r\n",
    "#     image_path= os.path.join(ham_folder, file)\r\n",
    "#     img=mpimg.imread(image_path)\r\n",
    "#     ax=plt.subplot(1,5,i+1)\r\n",
    "#     ax.title.set_text(file)\r\n",
    "#     plt.imshow(img)\r\n"
   ]
  },
  {
   "cell_type": "code",
   "execution_count": 72,
   "metadata": {},
   "outputs": [
    {
     "name": "stdout",
     "output_type": "stream",
     "text": [
      "Cant load C:\\Users\\TIMI.PC\\Documents\\Programming\\Python\\Projects\\Spam-SVM\\data\\spam\\001725.5639240@frontiernet.net_congestion.gif\n"
     ]
    }
   ],
   "source": [
    "from PIL import Image, ImageFile\r\n",
    "import sys\r\n",
    "\r\n",
    "ImageFile.LOAD_TRUNCATED_IMAGES = True\r\n",
    "\r\n",
    "#Clean data\r\n",
    "\r\n",
    "# convert gif to png type\r\n",
    "def processImage(infile, i):\r\n",
    "    try:\r\n",
    "        im = Image.open(infile)\r\n",
    "    except IOError:\r\n",
    "        print (\"Cant load\", infile)\r\n",
    "        return\r\n",
    "\r\n",
    "    mypalette = im.getpalette()\r\n",
    "\r\n",
    "    try:\r\n",
    "        while 1:\r\n",
    "            im.putpalette(mypalette)\r\n",
    "            new_im = Image.new(\"RGBA\", im.size)\r\n",
    "            new_im.paste(im)\r\n",
    "            new_im.save(r'data\\spam_cleaned\\spam_'+str(i)+'.png')\r\n",
    "\r\n",
    " \r\n",
    "            im.seek(im.tell() + 1)\r\n",
    "\r\n",
    "    except EOFError:\r\n",
    "        pass # end of sequence\r\n",
    "        return\r\n",
    "\r\n",
    "\r\n",
    "spam_folder = r'C:\\Users\\TIMI.PC\\Documents\\Programming\\Python\\Projects\\Spam-SVM\\data\\spam'\r\n",
    "\r\n",
    "valid_images = [\".jpg\",\".png\"]\r\n",
    "i = 0\r\n",
    "\r\n",
    "for f in os.listdir(spam_folder):\r\n",
    "    i += 1\r\n",
    "    dir = os.path.join(spam_folder,f)\r\n",
    "    ext = os.path.splitext(f)[1]\r\n",
    "\r\n",
    "    if ext.lower() in valid_images:\r\n",
    "        Image.open(dir).save(r'data\\spam_cleaned\\spam_'+str(i)+'.png')\r\n",
    "    elif ext.lower() == '.gif' :\r\n",
    "        processImage(dir, i)\r\n",
    "\r\n",
    "    else:\r\n",
    "        continue\r\n",
    "\r\n",
    "    \r\n",
    "\r\n"
   ]
  },
  {
   "cell_type": "code",
   "execution_count": 78,
   "metadata": {},
   "outputs": [
    {
     "name": "stdout",
     "output_type": "stream",
     "text": [
      "Cant load C:\\Users\\TIMI.PC\\Documents\\Programming\\Python\\Projects\\Spam-SVM\\data\\ham\\1029.gif\n",
      "Cant load C:\\Users\\TIMI.PC\\Documents\\Programming\\Python\\Projects\\Spam-SVM\\data\\ham\\1030.gif\n",
      "Cant load C:\\Users\\TIMI.PC\\Documents\\Programming\\Python\\Projects\\Spam-SVM\\data\\ham\\1031.gif\n",
      "Cant load C:\\Users\\TIMI.PC\\Documents\\Programming\\Python\\Projects\\Spam-SVM\\data\\ham\\1046.gif\n",
      "Cant load C:\\Users\\TIMI.PC\\Documents\\Programming\\Python\\Projects\\Spam-SVM\\data\\ham\\1047.gif\n",
      "Cant load C:\\Users\\TIMI.PC\\Documents\\Programming\\Python\\Projects\\Spam-SVM\\data\\ham\\1048.gif\n",
      "Cant load C:\\Users\\TIMI.PC\\Documents\\Programming\\Python\\Projects\\Spam-SVM\\data\\ham\\1049.gif\n",
      "Cant load C:\\Users\\TIMI.PC\\Documents\\Programming\\Python\\Projects\\Spam-SVM\\data\\ham\\1122.gif\n",
      "Cant load C:\\Users\\TIMI.PC\\Documents\\Programming\\Python\\Projects\\Spam-SVM\\data\\ham\\1234.gif\n"
     ]
    }
   ],
   "source": [
    "def processImage(infile, i):\r\n",
    "    try:\r\n",
    "        im = Image.open(infile)\r\n",
    "    except IOError:\r\n",
    "        print (\"Cant load\", infile)\r\n",
    "        return\r\n",
    "\r\n",
    "    mypalette = im.getpalette()\r\n",
    "\r\n",
    "    try:\r\n",
    "        while 1:\r\n",
    "            im.putpalette(mypalette)\r\n",
    "            new_im = Image.new(\"RGBA\", im.size)\r\n",
    "            new_im.paste(im)\r\n",
    "            new_im.save(r'data\\ham_cleaned\\ham_'+str(i)+'.png')\r\n",
    "\r\n",
    " \r\n",
    "            im.seek(im.tell() + 1)\r\n",
    "\r\n",
    "    except EOFError:\r\n",
    "        pass # end of sequence\r\n",
    "        return\r\n",
    "\r\n",
    "ham_folder = r'C:\\Users\\TIMI.PC\\Documents\\Programming\\Python\\Projects\\Spam-SVM\\data\\ham'\r\n",
    "\r\n",
    "valid_images = [\".jpg\",\".png\"]\r\n",
    "i = 0\r\n",
    "\r\n",
    "for f in os.listdir(ham_folder):\r\n",
    "    i += 1\r\n",
    "    dir = os.path.join(ham_folder,f)\r\n",
    "\r\n",
    "    if f == '1001.gif' : \r\n",
    "        continue\r\n",
    "    \r\n",
    "    ext = os.path.splitext(f)[1]\r\n",
    "  \r\n",
    "\r\n",
    "    if i == 800 : \r\n",
    "        break\r\n",
    "\r\n",
    "    if ext.lower() in valid_images:\r\n",
    "        Image.open(dir).save(r'data\\ham_cleaned\\ham_'+str(i)+'.png')\r\n",
    "    elif ext.lower() == '.gif' :\r\n",
    "        processImage(dir, i)\r\n",
    "\r\n",
    "    else:\r\n",
    "        continue\r\n",
    "\r\n",
    "    "
   ]
  },
  {
   "cell_type": "code",
   "execution_count": 198,
   "metadata": {},
   "outputs": [],
   "source": [
    "from skimage.io import imread\r\n",
    "from skimage.transform import resize \r\n",
    "import cv2\r\n",
    "\r\n",
    "flat_data_arr = []\r\n",
    "target_arr = []\r\n",
    "\r\n",
    "# process images \r\n",
    "\r\n",
    "\r\n",
    "ham_cleaned = r'C:\\Users\\TIMI.PC\\Documents\\Programming\\Python\\Projects\\Spam-SVM\\data\\ham_cleaned'\r\n",
    "spam_cleaned = r'C:\\Users\\TIMI.PC\\Documents\\Programming\\Python\\Projects\\Spam-SVM\\data\\spam_cleaned'\r\n",
    "for i, img in enumerate(os.listdir(ham_cleaned)):\r\n",
    "\r\n",
    "    img_array= cv2.imread(os.path.join(spam_cleaned,hams[0]))\r\n",
    "     # convert to grey scale\r\n",
    "    grayImage = cv2.cvtColor(img_array, cv2.COLOR_BGR2GRAY)\r\n",
    "\r\n",
    "    # resize image\r\n",
    "    img_resized=resize(grayImage,(100,100))\r\n",
    "\r\n",
    "    #flatten data\r\n",
    "    flat_data_arr.append(img_resized.flatten())\r\n",
    "\r\n",
    "     # assign target value of 0 for ham images\r\n",
    "    target_arr.append(0)\r\n",
    "\r\n",
    "for i, img in enumerate(os.listdir(spam_cleaned)):\r\n",
    "\r\n",
    "    img_array= cv2.imread(os.path.join(spam_cleaned,hams[0]))\r\n",
    " # convert to grey scale\r\n",
    "    grayImage = cv2.cvtColor(img_array, cv2.COLOR_BGR2GRAY)\r\n",
    "\r\n",
    "    # resize image\r\n",
    "    img_resized=resize(grayImage,(100,100))\r\n",
    "\r\n",
    "     #flatten data\r\n",
    "    flat_data_arr.append(img_resized.flatten())\r\n",
    "\r\n",
    "    # assign target value of 1 for spam images\r\n",
    "    target_arr.append(1)\r\n",
    "\r\n",
    "\r\n"
   ]
  },
  {
   "cell_type": "code",
   "execution_count": 199,
   "metadata": {},
   "outputs": [
    {
     "data": {
      "text/html": "<div>\n<style scoped>\n    .dataframe tbody tr th:only-of-type {\n        vertical-align: middle;\n    }\n\n    .dataframe tbody tr th {\n        vertical-align: top;\n    }\n\n    .dataframe thead th {\n        text-align: right;\n    }\n</style>\n<table border=\"1\" class=\"dataframe\">\n  <thead>\n    <tr style=\"text-align: right;\">\n      <th></th>\n      <th>0</th>\n      <th>1</th>\n      <th>2</th>\n      <th>3</th>\n      <th>4</th>\n      <th>5</th>\n      <th>6</th>\n      <th>7</th>\n      <th>8</th>\n      <th>9</th>\n      <th>...</th>\n      <th>9990</th>\n      <th>9991</th>\n      <th>9992</th>\n      <th>9993</th>\n      <th>9994</th>\n      <th>9995</th>\n      <th>9996</th>\n      <th>9997</th>\n      <th>9998</th>\n      <th>9999</th>\n    </tr>\n  </thead>\n  <tbody>\n    <tr>\n      <th>0</th>\n      <td>0.996078</td>\n      <td>0.996078</td>\n      <td>0.996078</td>\n      <td>0.996078</td>\n      <td>0.996078</td>\n      <td>0.996078</td>\n      <td>0.996078</td>\n      <td>0.996078</td>\n      <td>0.996078</td>\n      <td>0.996078</td>\n      <td>...</td>\n      <td>0.989903</td>\n      <td>0.992157</td>\n      <td>0.996078</td>\n      <td>0.996046</td>\n      <td>0.996078</td>\n      <td>0.996078</td>\n      <td>0.996078</td>\n      <td>0.996078</td>\n      <td>0.996078</td>\n      <td>0.992157</td>\n    </tr>\n    <tr>\n      <th>1</th>\n      <td>0.996078</td>\n      <td>0.996078</td>\n      <td>0.996078</td>\n      <td>0.996078</td>\n      <td>0.996078</td>\n      <td>0.996078</td>\n      <td>0.996078</td>\n      <td>0.996078</td>\n      <td>0.996078</td>\n      <td>0.996078</td>\n      <td>...</td>\n      <td>0.989903</td>\n      <td>0.992157</td>\n      <td>0.996078</td>\n      <td>0.996046</td>\n      <td>0.996078</td>\n      <td>0.996078</td>\n      <td>0.996078</td>\n      <td>0.996078</td>\n      <td>0.996078</td>\n      <td>0.992157</td>\n    </tr>\n    <tr>\n      <th>2</th>\n      <td>0.996078</td>\n      <td>0.996078</td>\n      <td>0.996078</td>\n      <td>0.996078</td>\n      <td>0.996078</td>\n      <td>0.996078</td>\n      <td>0.996078</td>\n      <td>0.996078</td>\n      <td>0.996078</td>\n      <td>0.996078</td>\n      <td>...</td>\n      <td>0.989903</td>\n      <td>0.992157</td>\n      <td>0.996078</td>\n      <td>0.996046</td>\n      <td>0.996078</td>\n      <td>0.996078</td>\n      <td>0.996078</td>\n      <td>0.996078</td>\n      <td>0.996078</td>\n      <td>0.992157</td>\n    </tr>\n    <tr>\n      <th>3</th>\n      <td>0.996078</td>\n      <td>0.996078</td>\n      <td>0.996078</td>\n      <td>0.996078</td>\n      <td>0.996078</td>\n      <td>0.996078</td>\n      <td>0.996078</td>\n      <td>0.996078</td>\n      <td>0.996078</td>\n      <td>0.996078</td>\n      <td>...</td>\n      <td>0.989903</td>\n      <td>0.992157</td>\n      <td>0.996078</td>\n      <td>0.996046</td>\n      <td>0.996078</td>\n      <td>0.996078</td>\n      <td>0.996078</td>\n      <td>0.996078</td>\n      <td>0.996078</td>\n      <td>0.992157</td>\n    </tr>\n    <tr>\n      <th>4</th>\n      <td>0.996078</td>\n      <td>0.996078</td>\n      <td>0.996078</td>\n      <td>0.996078</td>\n      <td>0.996078</td>\n      <td>0.996078</td>\n      <td>0.996078</td>\n      <td>0.996078</td>\n      <td>0.996078</td>\n      <td>0.996078</td>\n      <td>...</td>\n      <td>0.989903</td>\n      <td>0.992157</td>\n      <td>0.996078</td>\n      <td>0.996046</td>\n      <td>0.996078</td>\n      <td>0.996078</td>\n      <td>0.996078</td>\n      <td>0.996078</td>\n      <td>0.996078</td>\n      <td>0.992157</td>\n    </tr>\n  </tbody>\n</table>\n<p>5 rows × 10000 columns</p>\n</div>",
      "text/plain": "       0         1         2         3         4         5         6     \\\n0  0.996078  0.996078  0.996078  0.996078  0.996078  0.996078  0.996078   \n1  0.996078  0.996078  0.996078  0.996078  0.996078  0.996078  0.996078   \n2  0.996078  0.996078  0.996078  0.996078  0.996078  0.996078  0.996078   \n3  0.996078  0.996078  0.996078  0.996078  0.996078  0.996078  0.996078   \n4  0.996078  0.996078  0.996078  0.996078  0.996078  0.996078  0.996078   \n\n       7         8         9     ...      9990      9991      9992      9993  \\\n0  0.996078  0.996078  0.996078  ...  0.989903  0.992157  0.996078  0.996046   \n1  0.996078  0.996078  0.996078  ...  0.989903  0.992157  0.996078  0.996046   \n2  0.996078  0.996078  0.996078  ...  0.989903  0.992157  0.996078  0.996046   \n3  0.996078  0.996078  0.996078  ...  0.989903  0.992157  0.996078  0.996046   \n4  0.996078  0.996078  0.996078  ...  0.989903  0.992157  0.996078  0.996046   \n\n       9994      9995      9996      9997      9998      9999  \n0  0.996078  0.996078  0.996078  0.996078  0.996078  0.992157  \n1  0.996078  0.996078  0.996078  0.996078  0.996078  0.992157  \n2  0.996078  0.996078  0.996078  0.996078  0.996078  0.992157  \n3  0.996078  0.996078  0.996078  0.996078  0.996078  0.992157  \n4  0.996078  0.996078  0.996078  0.996078  0.996078  0.992157  \n\n[5 rows x 10000 columns]"
     },
     "execution_count": 199,
     "metadata": {},
     "output_type": "execute_result"
    }
   ],
   "source": [
    "# convert to numpy array\r\n",
    "\r\n",
    "flat_data=np.array(flat_data_arr)\r\n",
    "\r\n",
    "target=np.array(target_arr)\r\n",
    "\r\n",
    "df=pd.DataFrame(flat_data)\r\n",
    "\r\n",
    "df['Target']=target\r\n",
    "\r\n",
    "\r\n",
    "\r\n",
    "x=df.iloc[:,:-1] #input data \r\n",
    "y=df.iloc[:,-1] #output data\r\n",
    "\r\n",
    "x.head()"
   ]
  },
  {
   "cell_type": "code",
   "execution_count": 200,
   "metadata": {},
   "outputs": [],
   "source": [
    "from matplotlib.pyplot import imshow\r\n"
   ]
  },
  {
   "cell_type": "code",
   "execution_count": 206,
   "metadata": {},
   "outputs": [],
   "source": [
    "from sklearn import svm\r\n",
    "\r\n",
    "from sklearn.model_selection import GridSearchCV\r\n",
    "\r\n",
    "param_grid={'C':[0.1,1,10,100],'gamma':[0.0001,0.001,0.1,1],'kernel':['rbf']}\r\n",
    "\r\n",
    "svc=svm.SVC(probability=True)\r\n",
    "\r\n",
    "model=GridSearchCV(svc,param_grid, verbose = 3, refit = True)"
   ]
  },
  {
   "cell_type": "code",
   "execution_count": 213,
   "metadata": {},
   "outputs": [
    {
     "name": "stdout",
     "output_type": "stream",
     "text": [
      "Splitted Successfully\n"
     ]
    },
    {
     "data": {
      "text/plain": "862    1\n995    1\n518    0\n175    0\n819    1\n      ..\n919    1\n930    1\n238    0\n425    0\n872    1\nName: Target, Length: 563, dtype: int32"
     },
     "execution_count": 213,
     "metadata": {},
     "output_type": "execute_result"
    }
   ],
   "source": [
    "from sklearn.model_selection import train_test_split\r\n",
    "\r\n",
    "x_train,x_test,y_train,y_test=train_test_split(x,y,test_size=0.5,random_state=77,stratify=y)\r\n",
    "\r\n",
    "print('Splitted Successfully')\r\n",
    "\r\n",
    "y_train\r\n",
    "\r\n",
    "# model.best_params_ contains the best parameters obtained from GridSearchCV"
   ]
  },
  {
   "cell_type": "code",
   "execution_count": 208,
   "metadata": {},
   "outputs": [
    {
     "name": "stdout",
     "output_type": "stream",
     "text": [
      "Fitting 5 folds for each of 16 candidates, totalling 80 fits\n",
      "[CV 1/5] END ...C=0.1, gamma=0.0001, kernel=rbf;, score=0.628 total time=  12.0s\n",
      "[CV 2/5] END ...C=0.1, gamma=0.0001, kernel=rbf;, score=0.628 total time=  10.8s\n",
      "[CV 3/5] END ...C=0.1, gamma=0.0001, kernel=rbf;, score=0.628 total time=  11.0s\n",
      "[CV 4/5] END ...C=0.1, gamma=0.0001, kernel=rbf;, score=0.625 total time=  10.5s\n",
      "[CV 5/5] END ...C=0.1, gamma=0.0001, kernel=rbf;, score=0.625 total time=  13.3s\n",
      "[CV 1/5] END ....C=0.1, gamma=0.001, kernel=rbf;, score=0.628 total time=  11.5s\n",
      "[CV 2/5] END ....C=0.1, gamma=0.001, kernel=rbf;, score=0.628 total time=  10.9s\n",
      "[CV 3/5] END ....C=0.1, gamma=0.001, kernel=rbf;, score=0.628 total time=  11.5s\n",
      "[CV 4/5] END ....C=0.1, gamma=0.001, kernel=rbf;, score=0.625 total time=  10.4s\n",
      "[CV 5/5] END ....C=0.1, gamma=0.001, kernel=rbf;, score=0.625 total time=  10.1s\n",
      "[CV 1/5] END ......C=0.1, gamma=0.1, kernel=rbf;, score=0.628 total time=   8.3s\n",
      "[CV 2/5] END ......C=0.1, gamma=0.1, kernel=rbf;, score=0.628 total time=   9.3s\n",
      "[CV 3/5] END ......C=0.1, gamma=0.1, kernel=rbf;, score=0.628 total time=  11.2s\n",
      "[CV 4/5] END ......C=0.1, gamma=0.1, kernel=rbf;, score=0.625 total time=  10.7s\n",
      "[CV 5/5] END ......C=0.1, gamma=0.1, kernel=rbf;, score=0.625 total time=  10.1s\n",
      "[CV 1/5] END ........C=0.1, gamma=1, kernel=rbf;, score=0.628 total time=  10.2s\n",
      "[CV 2/5] END ........C=0.1, gamma=1, kernel=rbf;, score=0.628 total time=  10.2s\n",
      "[CV 3/5] END ........C=0.1, gamma=1, kernel=rbf;, score=0.628 total time=   8.0s\n",
      "[CV 4/5] END ........C=0.1, gamma=1, kernel=rbf;, score=0.625 total time=   8.6s\n",
      "[CV 5/5] END ........C=0.1, gamma=1, kernel=rbf;, score=0.625 total time=   8.8s\n",
      "[CV 1/5] END .....C=1, gamma=0.0001, kernel=rbf;, score=0.628 total time=   8.0s\n",
      "[CV 2/5] END .....C=1, gamma=0.0001, kernel=rbf;, score=0.628 total time=   7.7s\n",
      "[CV 3/5] END .....C=1, gamma=0.0001, kernel=rbf;, score=0.628 total time=   7.4s\n",
      "[CV 4/5] END .....C=1, gamma=0.0001, kernel=rbf;, score=0.625 total time=   7.8s\n",
      "[CV 5/5] END .....C=1, gamma=0.0001, kernel=rbf;, score=0.625 total time=   8.9s\n",
      "[CV 1/5] END ......C=1, gamma=0.001, kernel=rbf;, score=0.628 total time=  10.0s\n",
      "[CV 2/5] END ......C=1, gamma=0.001, kernel=rbf;, score=0.628 total time=   7.9s\n",
      "[CV 3/5] END ......C=1, gamma=0.001, kernel=rbf;, score=0.628 total time=   9.4s\n",
      "[CV 4/5] END ......C=1, gamma=0.001, kernel=rbf;, score=0.625 total time=   7.9s\n",
      "[CV 5/5] END ......C=1, gamma=0.001, kernel=rbf;, score=0.625 total time=   7.8s\n",
      "[CV 1/5] END ........C=1, gamma=0.1, kernel=rbf;, score=0.628 total time=   8.3s\n",
      "[CV 2/5] END ........C=1, gamma=0.1, kernel=rbf;, score=0.628 total time=  10.1s\n",
      "[CV 3/5] END ........C=1, gamma=0.1, kernel=rbf;, score=0.628 total time=   9.3s\n",
      "[CV 4/5] END ........C=1, gamma=0.1, kernel=rbf;, score=0.625 total time=   7.8s\n",
      "[CV 5/5] END ........C=1, gamma=0.1, kernel=rbf;, score=0.625 total time=   8.8s\n",
      "[CV 1/5] END ..........C=1, gamma=1, kernel=rbf;, score=0.628 total time=   7.7s\n",
      "[CV 2/5] END ..........C=1, gamma=1, kernel=rbf;, score=0.628 total time=   8.8s\n",
      "[CV 3/5] END ..........C=1, gamma=1, kernel=rbf;, score=0.628 total time=   7.7s\n",
      "[CV 4/5] END ..........C=1, gamma=1, kernel=rbf;, score=0.625 total time=   9.3s\n",
      "[CV 5/5] END ..........C=1, gamma=1, kernel=rbf;, score=0.625 total time=   7.8s\n",
      "[CV 1/5] END ....C=10, gamma=0.0001, kernel=rbf;, score=0.628 total time=   8.3s\n",
      "[CV 2/5] END ....C=10, gamma=0.0001, kernel=rbf;, score=0.628 total time=   9.1s\n",
      "[CV 3/5] END ....C=10, gamma=0.0001, kernel=rbf;, score=0.628 total time=   7.4s\n",
      "[CV 4/5] END ....C=10, gamma=0.0001, kernel=rbf;, score=0.625 total time=   7.8s\n",
      "[CV 5/5] END ....C=10, gamma=0.0001, kernel=rbf;, score=0.625 total time=   7.9s\n",
      "[CV 1/5] END .....C=10, gamma=0.001, kernel=rbf;, score=0.628 total time=  11.8s\n",
      "[CV 2/5] END .....C=10, gamma=0.001, kernel=rbf;, score=0.628 total time=   9.9s\n",
      "[CV 3/5] END .....C=10, gamma=0.001, kernel=rbf;, score=0.628 total time=   8.3s\n",
      "[CV 4/5] END .....C=10, gamma=0.001, kernel=rbf;, score=0.625 total time=   7.8s\n",
      "[CV 5/5] END .....C=10, gamma=0.001, kernel=rbf;, score=0.625 total time=   7.7s\n",
      "[CV 1/5] END .......C=10, gamma=0.1, kernel=rbf;, score=0.628 total time=   7.7s\n",
      "[CV 2/5] END .......C=10, gamma=0.1, kernel=rbf;, score=0.628 total time=   7.7s\n",
      "[CV 3/5] END .......C=10, gamma=0.1, kernel=rbf;, score=0.628 total time=   7.7s\n",
      "[CV 4/5] END .......C=10, gamma=0.1, kernel=rbf;, score=0.625 total time=   7.9s\n",
      "[CV 5/5] END .......C=10, gamma=0.1, kernel=rbf;, score=0.625 total time=   9.0s\n",
      "[CV 1/5] END .........C=10, gamma=1, kernel=rbf;, score=0.628 total time=   8.0s\n",
      "[CV 2/5] END .........C=10, gamma=1, kernel=rbf;, score=0.628 total time=   7.6s\n",
      "[CV 3/5] END .........C=10, gamma=1, kernel=rbf;, score=0.628 total time=   7.8s\n",
      "[CV 4/5] END .........C=10, gamma=1, kernel=rbf;, score=0.625 total time=   7.7s\n",
      "[CV 5/5] END .........C=10, gamma=1, kernel=rbf;, score=0.625 total time=   7.6s\n",
      "[CV 1/5] END ...C=100, gamma=0.0001, kernel=rbf;, score=0.628 total time=   8.0s\n",
      "[CV 2/5] END ...C=100, gamma=0.0001, kernel=rbf;, score=0.628 total time=   7.9s\n",
      "[CV 3/5] END ...C=100, gamma=0.0001, kernel=rbf;, score=0.628 total time=   8.5s\n",
      "[CV 4/5] END ...C=100, gamma=0.0001, kernel=rbf;, score=0.625 total time=  10.7s\n",
      "[CV 5/5] END ...C=100, gamma=0.0001, kernel=rbf;, score=0.625 total time=   8.2s\n",
      "[CV 1/5] END ....C=100, gamma=0.001, kernel=rbf;, score=0.628 total time=   8.3s\n",
      "[CV 2/5] END ....C=100, gamma=0.001, kernel=rbf;, score=0.628 total time=   8.2s\n",
      "[CV 3/5] END ....C=100, gamma=0.001, kernel=rbf;, score=0.628 total time=   8.1s\n",
      "[CV 4/5] END ....C=100, gamma=0.001, kernel=rbf;, score=0.625 total time=   8.1s\n",
      "[CV 5/5] END ....C=100, gamma=0.001, kernel=rbf;, score=0.625 total time=   8.3s\n",
      "[CV 1/5] END ......C=100, gamma=0.1, kernel=rbf;, score=0.628 total time=   7.9s\n",
      "[CV 2/5] END ......C=100, gamma=0.1, kernel=rbf;, score=0.628 total time=   7.9s\n",
      "[CV 3/5] END ......C=100, gamma=0.1, kernel=rbf;, score=0.628 total time=   9.4s\n",
      "[CV 4/5] END ......C=100, gamma=0.1, kernel=rbf;, score=0.625 total time=   8.3s\n",
      "[CV 5/5] END ......C=100, gamma=0.1, kernel=rbf;, score=0.625 total time=   7.9s\n",
      "[CV 1/5] END ........C=100, gamma=1, kernel=rbf;, score=0.628 total time=   8.0s\n",
      "[CV 2/5] END ........C=100, gamma=1, kernel=rbf;, score=0.628 total time=   9.2s\n",
      "[CV 3/5] END ........C=100, gamma=1, kernel=rbf;, score=0.628 total time=   9.1s\n",
      "[CV 4/5] END ........C=100, gamma=1, kernel=rbf;, score=0.625 total time=   8.5s\n",
      "[CV 5/5] END ........C=100, gamma=1, kernel=rbf;, score=0.625 total time=   9.2s\n",
      "The Model is trained well with the given images\n"
     ]
    }
   ],
   "source": [
    "model.fit(x_train,y_train)\r\n",
    "\r\n",
    "print('The Model is trained well with the given images')"
   ]
  },
  {
   "cell_type": "markdown",
   "metadata": {},
   "source": []
  },
  {
   "cell_type": "code",
   "execution_count": 211,
   "metadata": {},
   "outputs": [
    {
     "name": "stdout",
     "output_type": "stream",
     "text": [
      "The predicted Data is :\n",
      "[0 0 0 0 0 0 0 0 0 0 0 0 0 0 0 0 0 0 0 0 0 0 0 0 0 0 0 0 0 0 0 0 0 0 0 0 0\n",
      " 0 0 0 0 0 0 0 0 0 0 0 0 0 0 0 0 0 0 0 0 0 0 0 0 0 0 0 0 0 0 0 0 0 0 0 0 0\n",
      " 0 0 0 0 0 0 0 0 0 0 0 0 0 0 0 0 0 0 0 0 0 0 0 0 0 0 0 0 0 0 0 0 0 0 0 0 0\n",
      " 0 0 0 0 0 0 0 0 0 0 0 0 0 0 0 0 0 0 0 0 0 0 0 0 0 0 0 0 0 0 0 0 0 0 0 0 0\n",
      " 0 0 0 0 0 0 0 0 0 0 0 0 0 0 0 0 0 0 0 0 0 0 0 0 0 0 0 0 0 0 0 0 0 0 0 0 0\n",
      " 0 0 0 0 0 0 0 0 0 0 0 0 0 0 0 0 0 0 0 0 0 0 0 0 0 0 0 0 0 0 0 0 0 0 0 0 0\n",
      " 0 0 0 0 0 0 0 0 0 0 0 0 0 0 0 0 0 0 0 0 0 0 0 0 0 0 0 0 0 0 0 0 0 0 0 0 0\n",
      " 0 0 0 0 0 0 0 0 0 0 0 0 0 0 0 0 0 0 0 0 0 0 0 0 0 0 0 0 0 0 0 0 0 0 0 0 0\n",
      " 0 0 0 0 0 0 0 0 0 0 0 0 0 0 0 0 0 0 0 0 0 0 0 0 0 0 0 0 0 0 0 0 0 0 0 0 0\n",
      " 0 0 0 0 0 0 0 0 0 0 0 0 0 0 0 0 0 0 0 0 0 0 0 0 0 0 0 0 0 0 0 0 0 0 0 0 0\n",
      " 0 0 0 0 0 0 0 0 0 0 0 0 0 0 0 0 0 0 0 0 0 0 0 0 0 0 0 0 0 0 0 0 0 0 0 0 0\n",
      " 0 0 0 0 0 0 0 0 0 0 0 0 0 0 0 0 0 0 0 0 0 0 0 0 0 0 0 0 0 0 0 0 0 0 0 0 0\n",
      " 0 0 0 0 0 0 0 0 0 0 0 0 0 0 0 0 0 0 0 0 0 0 0 0 0 0 0 0 0 0 0 0 0 0 0 0 0\n",
      " 0 0 0 0 0 0 0 0 0 0 0 0 0 0 0 0 0 0 0 0 0 0 0 0 0 0 0 0 0 0 0 0 0 0 0 0 0\n",
      " 0 0 0 0 0 0 0 0 0 0 0 0 0 0 0 0 0 0 0 0 0 0 0 0 0 0 0 0 0 0 0 0 0 0 0 0 0\n",
      " 0 0 0 0 0 0 0 0 0]\n",
      "The actual data is:\n",
      "[0 1 1 0 0 0 0 0 0 0 1 1 1 0 0 0 1 0 0 0 0 1 0 0 0 1 0 1 1 0 1 1 1 0 0 0 0\n",
      " 0 1 1 0 1 0 1 0 0 1 0 1 1 1 1 1 1 1 1 0 0 1 1 0 1 1 1 0 0 1 0 1 1 1 0 1 1\n",
      " 1 0 0 0 1 0 0 1 1 0 0 1 0 1 0 0 0 1 0 0 0 0 0 0 0 0 0 0 1 1 1 0 1 1 1 0 0\n",
      " 0 0 1 0 0 0 0 1 0 1 0 0 0 1 1 0 1 0 0 1 0 0 0 0 0 0 1 0 1 1 1 0 0 0 1 1 0\n",
      " 0 0 0 0 0 0 0 0 0 1 0 0 0 1 0 0 0 0 0 0 0 0 1 0 0 0 0 0 0 1 0 0 0 1 0 0 0\n",
      " 0 0 1 0 0 1 0 1 0 0 1 1 0 0 0 0 0 0 0 1 0 0 0 0 0 0 1 1 0 0 0 0 1 0 0 0 1\n",
      " 0 0 1 0 1 1 0 0 0 0 0 1 0 0 1 0 0 0 1 0 0 0 0 1 1 0 0 0 0 0 0 0 0 0 0 1 1\n",
      " 0 1 0 0 1 1 0 0 1 0 1 0 1 0 1 1 1 0 1 0 0 0 1 0 0 1 0 0 1 0 0 0 1 0 1 0 1\n",
      " 0 1 0 1 0 1 0 0 0 0 0 0 1 1 1 1 1 1 0 0 0 1 0 0 1 1 0 0 1 0 1 1 1 1 0 0 1\n",
      " 0 0 1 0 0 0 0 0 1 0 0 0 1 0 0 0 0 0 0 0 0 1 0 0 0 0 0 0 0 1 0 0 1 0 0 1 0\n",
      " 0 0 0 1 0 1 0 0 0 0 0 1 0 0 1 1 1 1 1 1 1 0 0 1 0 0 0 0 0 0 0 0 1 0 0 0 1\n",
      " 0 0 0 1 0 0 1 0 1 1 1 0 0 0 0 0 0 0 1 0 1 1 0 1 1 1 0 0 0 0 0 0 0 1 0 0 1\n",
      " 0 0 1 0 1 1 0 0 1 1 1 1 0 1 1 1 1 0 1 1 1 1 0 0 0 0 1 0 0 0 0 1 1 1 1 0 1\n",
      " 1 1 0 0 1 1 1 0 0 0 1 0 1 1 1 0 0 1 1 1 1 0 0 1 0 1 1 1 1 1 1 0 1 0 1 1 1\n",
      " 0 0 1 0 0 0 1 1 0 0 0 0 0 0 1 1 0 0 0 0 0 0 0 1 0 1 0 0 0 0 0 0 0 0 1 0 0\n",
      " 0 0 1 1 0 0 1 0 0]\n",
      "The model is 62.5886524822695% accurate\n",
      "              precision    recall  f1-score   support\n",
      "\n",
      "           0       0.63      1.00      0.77       353\n",
      "           1       0.00      0.00      0.00       211\n",
      "\n",
      "    accuracy                           0.63       564\n",
      "   macro avg       0.31      0.50      0.38       564\n",
      "weighted avg       0.39      0.63      0.48       564\n",
      "\n"
     ]
    },
    {
     "name": "stderr",
     "output_type": "stream",
     "text": [
      "C:\\Users\\TIMI.PC\\anaconda3\\envs\\ai\\lib\\site-packages\\sklearn\\metrics\\_classification.py:1248: UndefinedMetricWarning: Precision and F-score are ill-defined and being set to 0.0 in labels with no predicted samples. Use `zero_division` parameter to control this behavior.\n",
      "  _warn_prf(average, modifier, msg_start, len(result))\n",
      "C:\\Users\\TIMI.PC\\anaconda3\\envs\\ai\\lib\\site-packages\\sklearn\\metrics\\_classification.py:1248: UndefinedMetricWarning: Precision and F-score are ill-defined and being set to 0.0 in labels with no predicted samples. Use `zero_division` parameter to control this behavior.\n",
      "  _warn_prf(average, modifier, msg_start, len(result))\n",
      "C:\\Users\\TIMI.PC\\anaconda3\\envs\\ai\\lib\\site-packages\\sklearn\\metrics\\_classification.py:1248: UndefinedMetricWarning: Precision and F-score are ill-defined and being set to 0.0 in labels with no predicted samples. Use `zero_division` parameter to control this behavior.\n",
      "  _warn_prf(average, modifier, msg_start, len(result))\n"
     ]
    }
   ],
   "source": [
    "from sklearn.metrics import accuracy_score, classification_report\r\n",
    "\r\n",
    "y_pred=model.predict(x_test)\r\n",
    "\r\n",
    "print(\"The predicted Data is :\")\r\n",
    "\r\n",
    "print(y_pred)\r\n",
    "\r\n",
    "print(\"The actual data is:\")\r\n",
    "\r\n",
    "print(np.array(y_test))\r\n",
    "\r\n",
    "print(f\"The model is {accuracy_score(y_pred,y_test)*100}% accurate\")\r\n",
    "\r\n",
    "print(classification_report(y_test, y_pred))"
   ]
  },
  {
   "cell_type": "code",
   "execution_count": null,
   "metadata": {},
   "outputs": [],
   "source": []
  }
 ],
 "metadata": {
  "kernelspec": {
   "display_name": "Python 3.6.13 64-bit ('ai': conda)",
   "name": "python3613jvsc74a57bd06118d7d22ced91c61bad6104c41ae5ce7cd6d6744d4a8ec0ccf7e2259c0666d1"
  },
  "language_info": {
   "codemirror_mode": {
    "name": "ipython",
    "version": 3
   },
   "file_extension": ".py",
   "mimetype": "text/x-python",
   "name": "python",
   "nbconvert_exporter": "python",
   "pygments_lexer": "ipython3",
   "version": "3.6.13"
  },
  "orig_nbformat": 2
 },
 "nbformat": 4,
 "nbformat_minor": 2
}